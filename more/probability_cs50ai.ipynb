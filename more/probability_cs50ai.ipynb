{
 "cells": [
  {
   "cell_type": "markdown",
   "metadata": {},
   "source": [
    "Consider a standard 52-card deck of cards with 13 card values (Ace, King, Queen, Jack, and 2-10) in each of the four suits (clubs, diamonds, hearts, spades). If a card is drawn at random, what is the probability that it is a spade or a two?\n",
    "\n",
    "Note that “or” in this question refers to inclusive, not exclusive, or.\n",
    "\n",
    "1. About 0.019\n",
    "2. About 0.077\n",
    "3. About 0.17\n",
    "4. About 0.25\n",
    "5. About 0.308\n",
    "6. About 0.327\n",
    "7. About 0.5\n",
    "8. None of the above"
   ]
  },
  {
   "cell_type": "code",
   "execution_count": 33,
   "metadata": {},
   "outputs": [
    {
     "name": "stdout",
     "output_type": "stream",
     "text": [
      "len deck = 52\n",
      "spades count = 13\n",
      "two count = 4\n",
      "spades or two probability: 0.3076923076923077\n"
     ]
    }
   ],
   "source": [
    "def count_deck_values(deck, value, position):\n",
    "    sum = 0\n",
    "    \n",
    "    for i in deck: \n",
    "        if i[position] == value:\n",
    "            sum += 1\n",
    "    \n",
    "    return sum\n",
    "\n",
    "cards = ['ace', 'king', 'queen', 'jack'] + [i for i in range(2, 11)]\n",
    "suits = ['club', 'diamond', 'heart', 'spade']\n",
    "\n",
    "deck = [(str(card), suit) for card in cards for suit in suits]\n",
    "print(f'len deck = {len(deck)}') # must be 52\n",
    "\n",
    "spades_count = count_deck_values(deck, 'spade', 1)\n",
    "print(f'spades count = {spades_count}') # must be equal to cards len (13)\n",
    "\n",
    "two_count = count_deck_values(deck, '2', 0)\n",
    "print(f'two count = {two_count}') # must be equal to 4\n",
    "\n",
    "probability = (spades_count + two_count - 1) / len(deck) # -1 because of two of spades\n",
    "print(f'spades or two probability: {probability}')\n",
    "\n"
   ]
  },
  {
   "cell_type": "markdown",
   "metadata": {},
   "source": [
    "Two factories — Factory A and Factory B — design batteries to be used in mobile phones. Factory A produces 60% of all batteries, and Factory B produces the other 40%. 2% of Factory A’s batteries have defects, and 4% of Factory B’s batteries have defects. What is the probability that a battery is both made by Factory A and defective?\n",
    "\n",
    "1. 0.008\n",
    "1. 0.012\n",
    "1. 0.02\n",
    "1. 0.024\n",
    "1. 0.028\n",
    "1. 0.06\n",
    "1. 0.12\n",
    "1. 0.2\n",
    "1. 0.429\n",
    "1. 0.6\n",
    "1. None of the above\n"
   ]
  },
  {
   "cell_type": "code",
   "execution_count": 35,
   "metadata": {},
   "outputs": [
    {
     "name": "stdout",
     "output_type": "stream",
     "text": [
      "The probability of a battery is both made by Factory A and defective is equal to 0.012\n"
     ]
    }
   ],
   "source": [
    "factory_a_production = 0.6\n",
    "factory_b_production = 0.4\n",
    "\n",
    "factory_a_defects = 0.02\n",
    "factory_b_defects = 0.04\n",
    "\n",
    "# p(a|b) = p(a) * (b|a)\n",
    "# p(factoryA | defective) = p(factoryA) * p(defective | factoryA)\n",
    "print(f'The probability of a battery is both made by Factory A and defective is equal to {factory_a_production*factory_a_defects}')\n"
   ]
  }
 ],
 "metadata": {
  "kernelspec": {
   "display_name": "Python 3",
   "language": "python",
   "name": "python3"
  },
  "language_info": {
   "codemirror_mode": {
    "name": "ipython",
    "version": 3
   },
   "file_extension": ".py",
   "mimetype": "text/x-python",
   "name": "python",
   "nbconvert_exporter": "python",
   "pygments_lexer": "ipython3",
   "version": "3.12.4"
  }
 },
 "nbformat": 4,
 "nbformat_minor": 2
}
